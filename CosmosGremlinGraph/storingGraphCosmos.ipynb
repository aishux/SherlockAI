{
 "cells": [
  {
   "cell_type": "code",
   "execution_count": null,
   "metadata": {},
   "outputs": [],
   "source": [
    "from gremlin_python.driver import client, serializer\n",
    "import nest_asyncio\n",
    "import ssl\n",
    "import certifi\n",
    "\n",
    "nest_asyncio.apply()\n",
    "ssl_context = ssl.create_default_context(cafile=certifi.where())\n",
    "\n",
    "# Replace these values with your Cosmos DB Gremlin endpoint and primary key\n",
    "COSMOS_DB_ENDPOINT = 'wss://sherlock-ai-account.gremlin.cosmos.azure.com:443/'\n",
    "COSMOS_DB_PRIMARY_KEY = ''\n",
    "DATABASE = 'sherlock-db'\n",
    "GRAPH = 'sherlock-ai-graph'\n",
    "\n",
    "# Create a connection to the Cosmos DB Gremlin endpoint\n",
    "gremlin_client = client.Client(\n",
    "    COSMOS_DB_ENDPOINT,\n",
    "    'g',\n",
    "    username=f\"/dbs/{DATABASE}/colls/{GRAPH}\",\n",
    "    password=COSMOS_DB_PRIMARY_KEY,\n",
    "    message_serializer=serializer.GraphSONSerializersV2d0(),\n",
    "    ssl_context=ssl_context\n",
    ")"
   ]
  },
  {
   "cell_type": "code",
   "execution_count": 15,
   "metadata": {},
   "outputs": [],
   "source": [
    "import pandas as pd"
   ]
  },
  {
   "cell_type": "code",
   "execution_count": 12,
   "metadata": {},
   "outputs": [],
   "source": [
    "df = pd.read_csv('chicago_crime_data_with_names.csv')"
   ]
  },
  {
   "cell_type": "code",
   "execution_count": 68,
   "metadata": {},
   "outputs": [],
   "source": [
    "def execute_batch(gremlin_client, queries):\n",
    "    query = \"g\" + \"\".join(queries)\n",
    "    try:\n",
    "        gremlin_client.submitAsync(query).result().all().result()\n",
    "    except Exception as e:\n",
    "        print(f\"Error executing query: {query}\\n{e}\")"
   ]
  },
  {
   "cell_type": "code",
   "execution_count": 69,
   "metadata": {},
   "outputs": [],
   "source": [
    "cache_vertices = {}"
   ]
  },
  {
   "cell_type": "code",
   "execution_count": 70,
   "metadata": {},
   "outputs": [],
   "source": [
    "def generate_query_vertex(label, id, properties):\n",
    "    if cache_vertices.get(id):\n",
    "        return None\n",
    "    props = \"\".join([f\".property('{k}', '{v}')\" for k, v in properties.items()])\n",
    "    query = f\".addV('{label}').property(id, '{id}'){props}\"\n",
    "    cache_vertices[id] = 1\n",
    "    return query"
   ]
  },
  {
   "cell_type": "code",
   "execution_count": 71,
   "metadata": {},
   "outputs": [],
   "source": [
    "df_sample = df.sample(n=70000, random_state=42)"
   ]
  },
  {
   "cell_type": "code",
   "execution_count": 73,
   "metadata": {},
   "outputs": [],
   "source": [
    "def batch_insert_crime_graph_vertices(gremlin_client, batch_size):\n",
    "    vertex_queries = []\n",
    "\n",
    "    for _, row in df_sample.iterrows():\n",
    "        crime_id = str(row[\"ID\"])\n",
    "        location = row.get(\"Block\", \"Unknown\")\n",
    "        crime_type = row.get(\"Primary Type\", \"Unknown\")\n",
    "        criminal = row.get(\"Criminal\", \"Unknown\")\n",
    "        district = str(row.get(\"District\", \"Unknown\"))\n",
    "        on_date = str(row.get(\"Date\", \"Unknown\"))\n",
    "        hour = str(int(pd.to_datetime(on_date).hour))\n",
    "        on_date = on_date.replace(\"/\", \"-\").replace(\":\", \"-\").replace(\" \", \"_\")\n",
    "\n",
    "        # Build vertex queries\n",
    "        for label, id, properties in [(\"crime\", crime_id, {\"crime_id\": crime_id,\"crime_type\": crime_type}),\n",
    "                                      (\"location\", location, {\"location\": location,\"crime_type\": crime_type}),\n",
    "                                      (\"crime_type\", crime_type, {\"crime_type\": crime_type}),\n",
    "                                      (\"criminal\", criminal, {\"name\": criminal,\"crime_type\": crime_type}),\n",
    "                                      (\"district\", district, {\"district\": district,\"crime_type\": crime_type}),\n",
    "                                      (\"date\", on_date, {\"date\": on_date,\"crime_type\": crime_type}),\n",
    "                                      (\"hour\", hour, {\"hour\": hour,\"crime_type\": crime_type})]:\n",
    "            query = generate_query_vertex(label, id, properties)\n",
    "            if query:\n",
    "                vertex_queries.append(query)\n",
    "\n",
    "        # When batch size is reached, flush queries\n",
    "        if len(vertex_queries) >= batch_size:\n",
    "            execute_batch(gremlin_client, vertex_queries)\n",
    "            vertex_queries.clear()\n",
    "\n",
    "    if vertex_queries:\n",
    "        execute_batch(gremlin_client, vertex_queries)\n",
    "\n",
    "    print(\"✅ Graph Vertices insertion complete.\")\n"
   ]
  },
  {
   "cell_type": "code",
   "execution_count": 74,
   "metadata": {},
   "outputs": [
    {
     "name": "stdout",
     "output_type": "stream",
     "text": [
      "✅ Graph Vertices insertion complete.\n"
     ]
    }
   ],
   "source": [
    "batch_insert_crime_graph_vertices(gremlin_client, 50)"
   ]
  },
  {
   "cell_type": "code",
   "execution_count": 79,
   "metadata": {},
   "outputs": [],
   "source": [
    "def generate_query_edge(from_id, to_id, label):\n",
    "    return f\".addE('{label}').from(g.V('{from_id}')).to(g.V('{to_id}'))\""
   ]
  },
  {
   "cell_type": "code",
   "execution_count": 80,
   "metadata": {},
   "outputs": [],
   "source": [
    "def batch_insert_crime_graph_edge(gremlin_client, df, batch_size):\n",
    "    edge_queries = []\n",
    "    for _, row in df_sample.iterrows():\n",
    "        crime_id = str(row[\"ID\"])\n",
    "        location = row.get(\"Block\", \"Unknown\")\n",
    "        crime_type = row.get(\"Primary Type\", \"Unknown\")\n",
    "        criminal = row.get(\"Criminal\", \"Unknown\")\n",
    "        district = str(row.get(\"District\", \"Unknown\"))\n",
    "        on_date = str(row.get(\"Date\", \"Unknown\"))\n",
    "        hour = str(int(pd.to_datetime(on_date).hour))\n",
    "        on_date = on_date.replace(\"/\", \"-\").replace(\":\", \"-\").replace(\" \", \"_\")\n",
    "\n",
    "        edge_queries.append(generate_query_edge(crime_id, location, \"located_at\"))\n",
    "        edge_queries.append(generate_query_edge(crime_id, crime_type, \"is_type\"))\n",
    "        edge_queries.append(generate_query_edge(crime_id, hour, \"occurred_at_hour\"))\n",
    "        edge_queries.append(generate_query_edge(crime_id, on_date, \"occurred_on_date\"))\n",
    "        edge_queries.append(generate_query_edge(crime_id, criminal, \"involved_criminal\"))\n",
    "        edge_queries.append(generate_query_edge(crime_id, district, \"located_in_district\"))\n",
    "\n",
    "        # When batch size is reached, flush queries\n",
    "        if len(edge_queries) >= batch_size:\n",
    "            execute_batch(gremlin_client, edge_queries)\n",
    "            edge_queries.clear()\n",
    "    \n",
    "    if edge_queries:\n",
    "        execute_batch(gremlin_client, edge_queries)"
   ]
  },
  {
   "cell_type": "code",
   "execution_count": 81,
   "metadata": {},
   "outputs": [],
   "source": [
    "batch_insert_crime_graph_edge(gremlin_client, df, 50)"
   ]
  },
  {
   "cell_type": "code",
   "execution_count": 100,
   "metadata": {},
   "outputs": [
    {
     "name": "stdout",
     "output_type": "stream",
     "text": [
      "Number of vertices are : 160458\n",
      "Number of edges are : 420000\n"
     ]
    }
   ],
   "source": [
    "from SherlockAI.CosmosGremlinGraph.GremlinGraph import GremlinGraph\n",
    "\n",
    "graph = GremlinGraph(\n",
    "    url=COSMOS_DB_ENDPOINT,\n",
    "    username=f\"/dbs/{DATABASE}/colls/{GRAPH}\",\n",
    "    password=COSMOS_DB_PRIMARY_KEY,\n",
    "    ssl_context=ssl_context\n",
    ")\n",
    "\n",
    "print(f\"Number of vertices are : {graph.query('g.V().count()')[0]}\")\n",
    "print(f\"Number of edges are : {graph.query('g.E().count()')[0]}\")"
   ]
  }
 ],
 "metadata": {
  "kernelspec": {
   "display_name": ".env",
   "language": "python",
   "name": "python3"
  },
  "language_info": {
   "codemirror_mode": {
    "name": "ipython",
    "version": 3
   },
   "file_extension": ".py",
   "mimetype": "text/x-python",
   "name": "python",
   "nbconvert_exporter": "python",
   "pygments_lexer": "ipython3",
   "version": "3.12.4"
  }
 },
 "nbformat": 4,
 "nbformat_minor": 2
}
